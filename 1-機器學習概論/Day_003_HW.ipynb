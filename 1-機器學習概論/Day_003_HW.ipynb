{
 "cells": [
  {
   "cell_type": "markdown",
   "metadata": {},
   "source": [
    "# 題目\n",
    "\n",
    "請至以下機器學習巨頭的 blog 參觀，試著閱讀一篇文章並分析其 \n",
    "\n",
    "作業 1：目標\n",
    "\n",
    "作業 2：方法\n",
    "\n",
    "作業 3：資料來源 \n",
    "\n",
    "\n",
    "# 答案\n",
    "\n",
    "閱讀此篇文章： \n",
    "MSURU: Large Scale E-commerce Image Classification with Weakly Supervised Search Data\n",
    "https://research.fb.com/blog/2019/08/facebook-research-at-kdd-2019/\n",
    "\n",
    "目標：為每日上傳至臉書商成的商品圖像打造一個影像辨識系統來做商品分類（MSURU）\n",
    "方法：使用每週的監督式log data\n",
    "資料來源：臉書商成的商品圖片"
   ]
  }
 ],
 "metadata": {
  "kernelspec": {
   "display_name": "Python 3",
   "language": "python",
   "name": "python3"
  },
  "language_info": {
   "codemirror_mode": {
    "name": "ipython",
    "version": 3
   },
   "file_extension": ".py",
   "mimetype": "text/x-python",
   "name": "python",
   "nbconvert_exporter": "python",
   "pygments_lexer": "ipython3",
   "version": "3.6.8"
  }
 },
 "nbformat": 4,
 "nbformat_minor": 2
}
